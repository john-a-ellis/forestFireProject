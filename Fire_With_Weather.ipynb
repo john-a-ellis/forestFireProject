{
 "cells": [
  {
   "cell_type": "code",
   "execution_count": 1,
   "id": "faff8255-6eb4-43f2-9ca7-786f60304610",
   "metadata": {},
   "outputs": [
    {
     "data": {
      "application/javascript": "(function(root) {\n  function now() {\n    return new Date();\n  }\n\n  var force = true;\n  var py_version = '3.2.1'.replace('rc', '-rc.').replace('.dev', '-dev.');\n  var is_dev = py_version.indexOf(\"+\") !== -1 || py_version.indexOf(\"-\") !== -1;\n  var reloading = false;\n  var Bokeh = root.Bokeh;\n  var bokeh_loaded = Bokeh != null && (Bokeh.version === py_version || (Bokeh.versions !== undefined && Bokeh.versions.has(py_version)));\n\n  if (typeof (root._bokeh_timeout) === \"undefined\" || force) {\n    root._bokeh_timeout = Date.now() + 5000;\n    root._bokeh_failed_load = false;\n  }\n\n  function run_callbacks() {\n    try {\n      root._bokeh_onload_callbacks.forEach(function(callback) {\n        if (callback != null)\n          callback();\n      });\n    } finally {\n      delete root._bokeh_onload_callbacks;\n    }\n    console.debug(\"Bokeh: all callbacks have finished\");\n  }\n\n  function load_libs(css_urls, js_urls, js_modules, js_exports, callback) {\n    if (css_urls == null) css_urls = [];\n    if (js_urls == null) js_urls = [];\n    if (js_modules == null) js_modules = [];\n    if (js_exports == null) js_exports = {};\n\n    root._bokeh_onload_callbacks.push(callback);\n\n    if (root._bokeh_is_loading > 0) {\n      console.debug(\"Bokeh: BokehJS is being loaded, scheduling callback at\", now());\n      return null;\n    }\n    if (js_urls.length === 0 && js_modules.length === 0 && Object.keys(js_exports).length === 0) {\n      run_callbacks();\n      return null;\n    }\n    if (!reloading) {\n      console.debug(\"Bokeh: BokehJS not loaded, scheduling load and callback at\", now());\n    }\n\n    function on_load() {\n      root._bokeh_is_loading--;\n      if (root._bokeh_is_loading === 0) {\n        console.debug(\"Bokeh: all BokehJS libraries/stylesheets loaded\");\n        run_callbacks()\n      }\n    }\n    window._bokeh_on_load = on_load\n\n    function on_error() {\n      console.error(\"failed to load \" + url);\n    }\n\n    var skip = [];\n    if (window.requirejs) {\n      window.requirejs.config({'packages': {}, 'paths': {'jspanel': 'https://cdn.jsdelivr.net/npm/jspanel4@4.12.0/dist/jspanel', 'jspanel-modal': 'https://cdn.jsdelivr.net/npm/jspanel4@4.12.0/dist/extensions/modal/jspanel.modal', 'jspanel-tooltip': 'https://cdn.jsdelivr.net/npm/jspanel4@4.12.0/dist/extensions/tooltip/jspanel.tooltip', 'jspanel-hint': 'https://cdn.jsdelivr.net/npm/jspanel4@4.12.0/dist/extensions/hint/jspanel.hint', 'jspanel-layout': 'https://cdn.jsdelivr.net/npm/jspanel4@4.12.0/dist/extensions/layout/jspanel.layout', 'jspanel-contextmenu': 'https://cdn.jsdelivr.net/npm/jspanel4@4.12.0/dist/extensions/contextmenu/jspanel.contextmenu', 'jspanel-dock': 'https://cdn.jsdelivr.net/npm/jspanel4@4.12.0/dist/extensions/dock/jspanel.dock', 'gridstack': 'https://cdn.jsdelivr.net/npm/gridstack@7.2.3/dist/gridstack-all', 'notyf': 'https://cdn.jsdelivr.net/npm/notyf@3/notyf.min'}, 'shim': {'jspanel': {'exports': 'jsPanel'}, 'gridstack': {'exports': 'GridStack'}}});\n      require([\"jspanel\"], function(jsPanel) {\n\twindow.jsPanel = jsPanel\n\ton_load()\n      })\n      require([\"jspanel-modal\"], function() {\n\ton_load()\n      })\n      require([\"jspanel-tooltip\"], function() {\n\ton_load()\n      })\n      require([\"jspanel-hint\"], function() {\n\ton_load()\n      })\n      require([\"jspanel-layout\"], function() {\n\ton_load()\n      })\n      require([\"jspanel-contextmenu\"], function() {\n\ton_load()\n      })\n      require([\"jspanel-dock\"], function() {\n\ton_load()\n      })\n      require([\"gridstack\"], function(GridStack) {\n\twindow.GridStack = GridStack\n\ton_load()\n      })\n      require([\"notyf\"], function() {\n\ton_load()\n      })\n      root._bokeh_is_loading = css_urls.length + 9;\n    } else {\n      root._bokeh_is_loading = css_urls.length + js_urls.length + js_modules.length + Object.keys(js_exports).length;\n    }\n\n    var existing_stylesheets = []\n    var links = document.getElementsByTagName('link')\n    for (var i = 0; i < links.length; i++) {\n      var link = links[i]\n      if (link.href != null) {\n\texisting_stylesheets.push(link.href)\n      }\n    }\n    for (var i = 0; i < css_urls.length; i++) {\n      var url = css_urls[i];\n      if (existing_stylesheets.indexOf(url) !== -1) {\n\ton_load()\n\tcontinue;\n      }\n      const element = document.createElement(\"link\");\n      element.onload = on_load;\n      element.onerror = on_error;\n      element.rel = \"stylesheet\";\n      element.type = \"text/css\";\n      element.href = url;\n      console.debug(\"Bokeh: injecting link tag for BokehJS stylesheet: \", url);\n      document.body.appendChild(element);\n    }    if (((window['jsPanel'] !== undefined) && (!(window['jsPanel'] instanceof HTMLElement))) || window.requirejs) {\n      var urls = ['https://cdn.holoviz.org/panel/1.2.3/dist/bundled/floatpanel/jspanel4@4.12.0/dist/jspanel.js', 'https://cdn.holoviz.org/panel/1.2.3/dist/bundled/floatpanel/jspanel4@4.12.0/dist/extensions/modal/jspanel.modal.js', 'https://cdn.holoviz.org/panel/1.2.3/dist/bundled/floatpanel/jspanel4@4.12.0/dist/extensions/tooltip/jspanel.tooltip.js', 'https://cdn.holoviz.org/panel/1.2.3/dist/bundled/floatpanel/jspanel4@4.12.0/dist/extensions/hint/jspanel.hint.js', 'https://cdn.holoviz.org/panel/1.2.3/dist/bundled/floatpanel/jspanel4@4.12.0/dist/extensions/layout/jspanel.layout.js', 'https://cdn.holoviz.org/panel/1.2.3/dist/bundled/floatpanel/jspanel4@4.12.0/dist/extensions/contextmenu/jspanel.contextmenu.js', 'https://cdn.holoviz.org/panel/1.2.3/dist/bundled/floatpanel/jspanel4@4.12.0/dist/extensions/dock/jspanel.dock.js'];\n      for (var i = 0; i < urls.length; i++) {\n        skip.push(urls[i])\n      }\n    }    if (((window['GridStack'] !== undefined) && (!(window['GridStack'] instanceof HTMLElement))) || window.requirejs) {\n      var urls = ['https://cdn.holoviz.org/panel/1.2.3/dist/bundled/gridstack/gridstack@7.2.3/dist/gridstack-all.js'];\n      for (var i = 0; i < urls.length; i++) {\n        skip.push(urls[i])\n      }\n    }    if (((window['Notyf'] !== undefined) && (!(window['Notyf'] instanceof HTMLElement))) || window.requirejs) {\n      var urls = ['https://cdn.holoviz.org/panel/1.2.3/dist/bundled/notificationarea/notyf@3/notyf.min.js'];\n      for (var i = 0; i < urls.length; i++) {\n        skip.push(urls[i])\n      }\n    }    var existing_scripts = []\n    var scripts = document.getElementsByTagName('script')\n    for (var i = 0; i < scripts.length; i++) {\n      var script = scripts[i]\n      if (script.src != null) {\n\texisting_scripts.push(script.src)\n      }\n    }\n    for (var i = 0; i < js_urls.length; i++) {\n      var url = js_urls[i];\n      if (skip.indexOf(url) !== -1 || existing_scripts.indexOf(url) !== -1) {\n\tif (!window.requirejs) {\n\t  on_load();\n\t}\n\tcontinue;\n      }\n      var element = document.createElement('script');\n      element.onload = on_load;\n      element.onerror = on_error;\n      element.async = false;\n      element.src = url;\n      console.debug(\"Bokeh: injecting script tag for BokehJS library: \", url);\n      document.head.appendChild(element);\n    }\n    for (var i = 0; i < js_modules.length; i++) {\n      var url = js_modules[i];\n      if (skip.indexOf(url) !== -1 || existing_scripts.indexOf(url) !== -1) {\n\tif (!window.requirejs) {\n\t  on_load();\n\t}\n\tcontinue;\n      }\n      var element = document.createElement('script');\n      element.onload = on_load;\n      element.onerror = on_error;\n      element.async = false;\n      element.src = url;\n      element.type = \"module\";\n      console.debug(\"Bokeh: injecting script tag for BokehJS library: \", url);\n      document.head.appendChild(element);\n    }\n    for (const name in js_exports) {\n      var url = js_exports[name];\n      if (skip.indexOf(url) >= 0 || root[name] != null) {\n\tif (!window.requirejs) {\n\t  on_load();\n\t}\n\tcontinue;\n      }\n      var element = document.createElement('script');\n      element.onerror = on_error;\n      element.async = false;\n      element.type = \"module\";\n      console.debug(\"Bokeh: injecting script tag for BokehJS library: \", url);\n      element.textContent = `\n      import ${name} from \"${url}\"\n      window.${name} = ${name}\n      window._bokeh_on_load()\n      `\n      document.head.appendChild(element);\n    }\n    if (!js_urls.length && !js_modules.length) {\n      on_load()\n    }\n  };\n\n  function inject_raw_css(css) {\n    const element = document.createElement(\"style\");\n    element.appendChild(document.createTextNode(css));\n    document.body.appendChild(element);\n  }\n\n  var js_urls = [\"https://cdn.bokeh.org/bokeh/release/bokeh-3.2.1.min.js\", \"https://cdn.bokeh.org/bokeh/release/bokeh-gl-3.2.1.min.js\", \"https://cdn.bokeh.org/bokeh/release/bokeh-widgets-3.2.1.min.js\", \"https://cdn.bokeh.org/bokeh/release/bokeh-tables-3.2.1.min.js\", \"https://cdn.holoviz.org/panel/1.2.3/dist/panel.min.js\"];\n  var js_modules = [];\n  var js_exports = {};\n  var css_urls = [];\n  var inline_js = [    function(Bokeh) {\n      Bokeh.set_log_level(\"info\");\n    },\nfunction(Bokeh) {} // ensure no trailing comma for IE\n  ];\n\n  function run_inline_js() {\n    if ((root.Bokeh !== undefined) || (force === true)) {\n      for (var i = 0; i < inline_js.length; i++) {\n        inline_js[i].call(root, root.Bokeh);\n      }\n      // Cache old bokeh versions\n      if (Bokeh != undefined && !reloading) {\n\tvar NewBokeh = root.Bokeh;\n\tif (Bokeh.versions === undefined) {\n\t  Bokeh.versions = new Map();\n\t}\n\tif (NewBokeh.version !== Bokeh.version) {\n\t  Bokeh.versions.set(NewBokeh.version, NewBokeh)\n\t}\n\troot.Bokeh = Bokeh;\n      }} else if (Date.now() < root._bokeh_timeout) {\n      setTimeout(run_inline_js, 100);\n    } else if (!root._bokeh_failed_load) {\n      console.log(\"Bokeh: BokehJS failed to load within specified timeout.\");\n      root._bokeh_failed_load = true;\n    }\n    root._bokeh_is_initializing = false\n  }\n\n  function load_or_wait() {\n    // Implement a backoff loop that tries to ensure we do not load multiple\n    // versions of Bokeh and its dependencies at the same time.\n    // In recent versions we use the root._bokeh_is_initializing flag\n    // to determine whether there is an ongoing attempt to initialize\n    // bokeh, however for backward compatibility we also try to ensure\n    // that we do not start loading a newer (Panel>=1.0 and Bokeh>3) version\n    // before older versions are fully initialized.\n    if (root._bokeh_is_initializing && Date.now() > root._bokeh_timeout) {\n      root._bokeh_is_initializing = false;\n      root._bokeh_onload_callbacks = undefined;\n      console.log(\"Bokeh: BokehJS was loaded multiple times but one version failed to initialize.\");\n      load_or_wait();\n    } else if (root._bokeh_is_initializing || (typeof root._bokeh_is_initializing === \"undefined\" && root._bokeh_onload_callbacks !== undefined)) {\n      setTimeout(load_or_wait, 100);\n    } else {\n      Bokeh = root.Bokeh;\n      bokeh_loaded = Bokeh != null && (Bokeh.version === py_version || (Bokeh.versions !== undefined && Bokeh.versions.has(py_version)));\n      root._bokeh_is_initializing = true\n      root._bokeh_onload_callbacks = []\n      if (!reloading && (!bokeh_loaded || is_dev)) {\n\troot.Bokeh = undefined;\n      }\n      load_libs(css_urls, js_urls, js_modules, js_exports, function() {\n\tconsole.debug(\"Bokeh: BokehJS plotting callback run at\", now());\n\trun_inline_js();\n      });\n    }\n  }\n  // Give older versions of the autoload script a head-start to ensure\n  // they initialize before we start loading newer version.\n  setTimeout(load_or_wait, 100)\n}(window));",
      "application/vnd.holoviews_load.v0+json": ""
     },
     "metadata": {},
     "output_type": "display_data"
    },
    {
     "data": {
      "application/javascript": "\nif ((window.PyViz === undefined) || (window.PyViz instanceof HTMLElement)) {\n  window.PyViz = {comms: {}, comm_status:{}, kernels:{}, receivers: {}, plot_index: []}\n}\n\n\n    function JupyterCommManager() {\n    }\n\n    JupyterCommManager.prototype.register_target = function(plot_id, comm_id, msg_handler) {\n      if (window.comm_manager || ((window.Jupyter !== undefined) && (Jupyter.notebook.kernel != null))) {\n        var comm_manager = window.comm_manager || Jupyter.notebook.kernel.comm_manager;\n        comm_manager.register_target(comm_id, function(comm) {\n          comm.on_msg(msg_handler);\n        });\n      } else if ((plot_id in window.PyViz.kernels) && (window.PyViz.kernels[plot_id])) {\n        window.PyViz.kernels[plot_id].registerCommTarget(comm_id, function(comm) {\n          comm.onMsg = msg_handler;\n        });\n      } else if (typeof google != 'undefined' && google.colab.kernel != null) {\n        google.colab.kernel.comms.registerTarget(comm_id, (comm) => {\n          var messages = comm.messages[Symbol.asyncIterator]();\n          function processIteratorResult(result) {\n            var message = result.value;\n            console.log(message)\n            var content = {data: message.data, comm_id};\n            var buffers = []\n            for (var buffer of message.buffers || []) {\n              buffers.push(new DataView(buffer))\n            }\n            var metadata = message.metadata || {};\n            var msg = {content, buffers, metadata}\n            msg_handler(msg);\n            return messages.next().then(processIteratorResult);\n          }\n          return messages.next().then(processIteratorResult);\n        })\n      }\n    }\n\n    JupyterCommManager.prototype.get_client_comm = function(plot_id, comm_id, msg_handler) {\n      if (comm_id in window.PyViz.comms) {\n        return window.PyViz.comms[comm_id];\n      } else if (window.comm_manager || ((window.Jupyter !== undefined) && (Jupyter.notebook.kernel != null))) {\n        var comm_manager = window.comm_manager || Jupyter.notebook.kernel.comm_manager;\n        var comm = comm_manager.new_comm(comm_id, {}, {}, {}, comm_id);\n        if (msg_handler) {\n          comm.on_msg(msg_handler);\n        }\n      } else if ((plot_id in window.PyViz.kernels) && (window.PyViz.kernels[plot_id])) {\n        var comm = window.PyViz.kernels[plot_id].connectToComm(comm_id);\n        comm.open();\n        if (msg_handler) {\n          comm.onMsg = msg_handler;\n        }\n      } else if (typeof google != 'undefined' && google.colab.kernel != null) {\n        var comm_promise = google.colab.kernel.comms.open(comm_id)\n        comm_promise.then((comm) => {\n          window.PyViz.comms[comm_id] = comm;\n          if (msg_handler) {\n            var messages = comm.messages[Symbol.asyncIterator]();\n            function processIteratorResult(result) {\n              var message = result.value;\n              var content = {data: message.data};\n              var metadata = message.metadata || {comm_id};\n              var msg = {content, metadata}\n              msg_handler(msg);\n              return messages.next().then(processIteratorResult);\n            }\n            return messages.next().then(processIteratorResult);\n          }\n        }) \n        var sendClosure = (data, metadata, buffers, disposeOnDone) => {\n          return comm_promise.then((comm) => {\n            comm.send(data, metadata, buffers, disposeOnDone);\n          });\n        };\n        var comm = {\n          send: sendClosure\n        };\n      }\n      window.PyViz.comms[comm_id] = comm;\n      return comm;\n    }\n    window.PyViz.comm_manager = new JupyterCommManager();\n    \n\n\nvar JS_MIME_TYPE = 'application/javascript';\nvar HTML_MIME_TYPE = 'text/html';\nvar EXEC_MIME_TYPE = 'application/vnd.holoviews_exec.v0+json';\nvar CLASS_NAME = 'output';\n\n/**\n * Render data to the DOM node\n */\nfunction render(props, node) {\n  var div = document.createElement(\"div\");\n  var script = document.createElement(\"script\");\n  node.appendChild(div);\n  node.appendChild(script);\n}\n\n/**\n * Handle when a new output is added\n */\nfunction handle_add_output(event, handle) {\n  var output_area = handle.output_area;\n  var output = handle.output;\n  if ((output.data == undefined) || (!output.data.hasOwnProperty(EXEC_MIME_TYPE))) {\n    return\n  }\n  var id = output.metadata[EXEC_MIME_TYPE][\"id\"];\n  var toinsert = output_area.element.find(\".\" + CLASS_NAME.split(' ')[0]);\n  if (id !== undefined) {\n    var nchildren = toinsert.length;\n    var html_node = toinsert[nchildren-1].children[0];\n    html_node.innerHTML = output.data[HTML_MIME_TYPE];\n    var scripts = [];\n    var nodelist = html_node.querySelectorAll(\"script\");\n    for (var i in nodelist) {\n      if (nodelist.hasOwnProperty(i)) {\n        scripts.push(nodelist[i])\n      }\n    }\n\n    scripts.forEach( function (oldScript) {\n      var newScript = document.createElement(\"script\");\n      var attrs = [];\n      var nodemap = oldScript.attributes;\n      for (var j in nodemap) {\n        if (nodemap.hasOwnProperty(j)) {\n          attrs.push(nodemap[j])\n        }\n      }\n      attrs.forEach(function(attr) { newScript.setAttribute(attr.name, attr.value) });\n      newScript.appendChild(document.createTextNode(oldScript.innerHTML));\n      oldScript.parentNode.replaceChild(newScript, oldScript);\n    });\n    if (JS_MIME_TYPE in output.data) {\n      toinsert[nchildren-1].children[1].textContent = output.data[JS_MIME_TYPE];\n    }\n    output_area._hv_plot_id = id;\n    if ((window.Bokeh !== undefined) && (id in Bokeh.index)) {\n      window.PyViz.plot_index[id] = Bokeh.index[id];\n    } else {\n      window.PyViz.plot_index[id] = null;\n    }\n  } else if (output.metadata[EXEC_MIME_TYPE][\"server_id\"] !== undefined) {\n    var bk_div = document.createElement(\"div\");\n    bk_div.innerHTML = output.data[HTML_MIME_TYPE];\n    var script_attrs = bk_div.children[0].attributes;\n    for (var i = 0; i < script_attrs.length; i++) {\n      toinsert[toinsert.length - 1].childNodes[1].setAttribute(script_attrs[i].name, script_attrs[i].value);\n    }\n    // store reference to server id on output_area\n    output_area._bokeh_server_id = output.metadata[EXEC_MIME_TYPE][\"server_id\"];\n  }\n}\n\n/**\n * Handle when an output is cleared or removed\n */\nfunction handle_clear_output(event, handle) {\n  var id = handle.cell.output_area._hv_plot_id;\n  var server_id = handle.cell.output_area._bokeh_server_id;\n  if (((id === undefined) || !(id in PyViz.plot_index)) && (server_id !== undefined)) { return; }\n  var comm = window.PyViz.comm_manager.get_client_comm(\"hv-extension-comm\", \"hv-extension-comm\", function () {});\n  if (server_id !== null) {\n    comm.send({event_type: 'server_delete', 'id': server_id});\n    return;\n  } else if (comm !== null) {\n    comm.send({event_type: 'delete', 'id': id});\n  }\n  delete PyViz.plot_index[id];\n  if ((window.Bokeh !== undefined) & (id in window.Bokeh.index)) {\n    var doc = window.Bokeh.index[id].model.document\n    doc.clear();\n    const i = window.Bokeh.documents.indexOf(doc);\n    if (i > -1) {\n      window.Bokeh.documents.splice(i, 1);\n    }\n  }\n}\n\n/**\n * Handle kernel restart event\n */\nfunction handle_kernel_cleanup(event, handle) {\n  delete PyViz.comms[\"hv-extension-comm\"];\n  window.PyViz.plot_index = {}\n}\n\n/**\n * Handle update_display_data messages\n */\nfunction handle_update_output(event, handle) {\n  handle_clear_output(event, {cell: {output_area: handle.output_area}})\n  handle_add_output(event, handle)\n}\n\nfunction register_renderer(events, OutputArea) {\n  function append_mime(data, metadata, element) {\n    // create a DOM node to render to\n    var toinsert = this.create_output_subarea(\n    metadata,\n    CLASS_NAME,\n    EXEC_MIME_TYPE\n    );\n    this.keyboard_manager.register_events(toinsert);\n    // Render to node\n    var props = {data: data, metadata: metadata[EXEC_MIME_TYPE]};\n    render(props, toinsert[0]);\n    element.append(toinsert);\n    return toinsert\n  }\n\n  events.on('output_added.OutputArea', handle_add_output);\n  events.on('output_updated.OutputArea', handle_update_output);\n  events.on('clear_output.CodeCell', handle_clear_output);\n  events.on('delete.Cell', handle_clear_output);\n  events.on('kernel_ready.Kernel', handle_kernel_cleanup);\n\n  OutputArea.prototype.register_mime_type(EXEC_MIME_TYPE, append_mime, {\n    safe: true,\n    index: 0\n  });\n}\n\nif (window.Jupyter !== undefined) {\n  try {\n    var events = require('base/js/events');\n    var OutputArea = require('notebook/js/outputarea').OutputArea;\n    if (OutputArea.prototype.mime_types().indexOf(EXEC_MIME_TYPE) == -1) {\n      register_renderer(events, OutputArea);\n    }\n  } catch(err) {\n  }\n}\n",
      "application/vnd.holoviews_load.v0+json": ""
     },
     "metadata": {},
     "output_type": "display_data"
    },
    {
     "data": {
      "text/html": [
       "<style>*[data-root-id],\n",
       "*[data-root-id] > * {\n",
       "  box-sizing: border-box;\n",
       "  font-family: var(--jp-ui-font-family);\n",
       "  font-size: var(--jp-ui-font-size1);\n",
       "  color: var(--vscode-editor-foreground, var(--jp-ui-font-color1));\n",
       "}\n",
       "\n",
       "/* Override VSCode background color */\n",
       ".cell-output-ipywidget-background:has(\n",
       "    > .cell-output-ipywidget-background > .lm-Widget > *[data-root-id]\n",
       "  ),\n",
       ".cell-output-ipywidget-background:has(> .lm-Widget > *[data-root-id]) {\n",
       "  background-color: transparent !important;\n",
       "}\n",
       "</style>"
      ]
     },
     "metadata": {},
     "output_type": "display_data"
    }
   ],
   "source": [
    "# importing depedencies\n",
    "import os\n",
    "import matplotlib.pyplot as plt\n",
    "import pandas as pd\n",
    "import scipy as st\n",
    "import numpy as np\n",
    "import hvplot.pandas\n",
    "import geopandas as gpd\n",
    "import requests\n",
    "import datetime\n",
    "import json\n",
    "import folium\n",
    "import pymongo\n",
    "import plotly.graph_objects as go\n",
    "import imageio.v2 as imageio\n",
    "from pprint import pprint"
   ]
  },
  {
   "cell_type": "markdown",
   "id": "ed966d6a-9a43-4c54-95e6-631cff790b16",
   "metadata": {},
   "source": [
    "### import data"
   ]
  },
  {
   "cell_type": "code",
   "execution_count": 2,
   "id": "3d1bb648",
   "metadata": {},
   "outputs": [
    {
     "name": "stdout",
     "output_type": "stream",
     "text": [
      "6065\n",
      "                                            geometry SRC_AGENCY      FIRE_ID  \\\n",
      "0  POLYGON Z ((-115.75479 49.79610 0.00000, -115....         BC  2016-N10037   \n",
      "1  MULTIPOLYGON Z (((-114.97290 49.01062 0.00000,...         BC  2016-N10016   \n",
      "2  POLYGON Z ((-114.94281 50.10509 0.00000, -114....         BC  2016-N10009   \n",
      "3  POLYGON Z ((-115.72874 49.63289 0.00000, -115....         BC  2016-N10004   \n",
      "4  POLYGON Z ((-115.75699 49.67369 0.00000, -115....         BC  2016-N10002   \n",
      "\n",
      "  FIRENAME  YEAR  MONTH  DAY    REP_DATE DATE_TYPE OUT_DATE  ... WATER_REM  \\\n",
      "0     None  2016      5   13  2016-05-13      None     None  ...      None   \n",
      "1     None  2016      4   20  2016-04-20      None     None  ...      None   \n",
      "2     None  2016      4   13  2016-04-13      None     None  ...      None   \n",
      "3     None  2016      4    5  2016-04-05      None     None  ...      None   \n",
      "4     None  2016      4    2  2016-04-02      None     None  ...      None   \n",
      "\n",
      "   UNBURN_REM  MORE_INFO   POLY_DATE      CFS_REF_ID CFS_NOTE1 CFS_NOTE2  \\\n",
      "0        None       None  2016-05-30  BC-2016-N10037      None      None   \n",
      "1        None       None  2016-04-22  BC-2016-N10016      None      None   \n",
      "2        None       None  2016-04-26  BC-2016-N10009      None      None   \n",
      "3        None       None  2016-08-24  BC-2016-N10004      None      None   \n",
      "4        None       None  2016-06-27  BC-2016-N10002      None      None   \n",
      "\n",
      "  AG_SRCFILE    ACQ_DATE SRC_AGY2  \n",
      "0       None  2017-04-12       BC  \n",
      "1       None  2017-04-12       BC  \n",
      "2       None  2017-04-12       BC  \n",
      "3       None  2017-04-12       BC  \n",
      "4       None  2017-04-12       BC  \n",
      "\n",
      "[5 rows x 27 columns]\n"
     ]
    }
   ],
   "source": [
    "# Import Fire_data Polygon Shape data, fire_data.json (from the resources folder in storage) \n",
    "with open(\"resources/fire_data.json\", \"r\") as f:\n",
    "    firedata = json.load(f)\n",
    "    fire_polygon_S_df = gpd.GeoDataFrame.from_features(firedata,crs='EPSG:4617')\n",
    "    print(len(fire_polygon_S_df))\n",
    "    print(fire_polygon_S_df.head())"
   ]
  },
  {
   "cell_type": "code",
   "execution_count": 3,
   "id": "d9548bae",
   "metadata": {},
   "outputs": [
    {
     "name": "stdout",
     "output_type": "stream",
     "text": [
      "6065\n",
      "                                            geometry SRC_AGENCY      FIRE_ID  \\\n",
      "0  POLYGON Z ((-115.72874 49.63289 0.00000, -115....         BC  2016-N10004   \n",
      "1  POLYGON Z ((-115.75479 49.79610 0.00000, -115....         BC  2016-N10037   \n",
      "2  POLYGON Z ((-114.94281 50.10509 0.00000, -114....         BC  2016-N10009   \n",
      "3  POLYGON Z ((-115.75699 49.67369 0.00000, -115....         BC  2016-N10002   \n",
      "4  POLYGON Z ((-121.57530 50.21258 0.00000, -121....         BC  2016-K70148   \n",
      "\n",
      "  FIRENAME  YEAR  MONTH  DAY    REP_DATE DATE_TYPE OUT_DATE  ... WATER_REM  \\\n",
      "0     None  2016      4    5  2016-04-05      None     None  ...      None   \n",
      "1     None  2016      5   13  2016-05-13      None     None  ...      None   \n",
      "2     None  2016      4   13  2016-04-13      None     None  ...      None   \n",
      "3     None  2016      4    2  2016-04-02      None     None  ...      None   \n",
      "4     None  2016      6   30  2016-06-30      None     None  ...      None   \n",
      "\n",
      "   UNBURN_REM  MORE_INFO   POLY_DATE      CFS_REF_ID CFS_NOTE1 CFS_NOTE2  \\\n",
      "0        None       None  2016-08-24  BC-2016-N10004      None      None   \n",
      "1        None       None  2016-05-30  BC-2016-N10037      None      None   \n",
      "2        None       None  2016-04-26  BC-2016-N10009      None      None   \n",
      "3        None       None  2016-06-27  BC-2016-N10002      None      None   \n",
      "4        None       None  2016-08-17  BC-2016-K70148      None      None   \n",
      "\n",
      "  AG_SRCFILE    ACQ_DATE SRC_AGY2  \n",
      "0       None  2017-04-12       BC  \n",
      "1       None  2017-04-12       BC  \n",
      "2       None  2017-04-12       BC  \n",
      "3       None  2017-04-12       BC  \n",
      "4       None  2017-04-12       BC  \n",
      "\n",
      "[5 rows x 27 columns]\n"
     ]
    }
   ],
   "source": [
    "# Connecting to the MongoDB database (i.e. loading the Fire_data dataset through MongoDB)\n",
    "def process_data():   \n",
    "    client = pymongo.MongoClient(\"mongodb://localhost:27017/\")\n",
    "    db = client[\"forestFireProject_db\"]\n",
    "    collection = db[\"ForestFirePolygons\"]\n",
    "    cursor = collection.find()\n",
    "    data = list(cursor)\n",
    "    print(len(data))\n",
    "    fire_polygon_M_df = gpd.GeoDataFrame.from_features(data,crs='EPSG:4617')\n",
    "    print(fire_polygon_M_df.head())\n",
    "process_data()"
   ]
  },
  {
   "cell_type": "code",
   "execution_count": 4,
   "id": "770cfdea",
   "metadata": {},
   "outputs": [
    {
     "name": "stdout",
     "output_type": "stream",
     "text": [
      "19115\n",
      "   FID SRC_AGENCY      FIRE_ID FIRENAME  LATITUDE  LONGITUDE  YEAR  MONTH  \\\n",
      "0    0         BC  1950-G00026             59.876   -131.922  1950      6   \n",
      "1    1         BC  1951-R00097             59.760   -132.808  1951      7   \n",
      "2    2         BC  1950-G00035             57.463   -122.816  1950      6   \n",
      "3    3         BC  1953-G00043             57.684   -121.925  1953      5   \n",
      "4    4         BC  1950-R00029             59.318   -133.228  1950      6   \n",
      "\n",
      "   DAY             REP_DATE  ...           CFS_REF_ID CFS_NOTE1 CFS_NOTE2  \\\n",
      "0    4  1950-06-04 00:00:00  ...  BC-1950-1950-G00026                       \n",
      "1   15  1951-07-15 00:00:00  ...  BC-1951-1951-R00097                       \n",
      "2   14  1950-06-14 00:00:00  ...  BC-1950-1950-G00035                       \n",
      "3    1  1953-05-01 00:00:00  ...  BC-1953-1953-G00043                       \n",
      "4   22  1950-06-22 00:00:00  ...  BC-1950-1950-R00029                       \n",
      "\n",
      "              ACQ_DATE SRC_AGY2 ECOZONE ECOZ_REF          ECOZ_NAME  \\\n",
      "0  2020-05-05 00:00:00       BC      12       12  Boreal Cordillera   \n",
      "1  2020-05-05 00:00:00       BC      12       12  Boreal Cordillera   \n",
      "2  2020-05-05 00:00:00       BC       4        4        Taiga Plain   \n",
      "3  2020-05-05 00:00:00       BC       4        4        Taiga Plain   \n",
      "4  2020-05-05 00:00:00       BC      12       12  Boreal Cordillera   \n",
      "\n",
      "             ECOZ_NOM                     geometry  \n",
      "0  CordillCre boreale  POINT (-131.92200 59.87600)  \n",
      "1  CordillCre boreale  POINT (-132.80800 59.76000)  \n",
      "2   Taiga des plaines  POINT (-122.81600 57.46300)  \n",
      "3   Taiga des plaines  POINT (-121.92500 57.68400)  \n",
      "4  CordillCre boreale  POINT (-133.22800 59.31800)  \n",
      "\n",
      "[5 rows x 28 columns]\n"
     ]
    }
   ],
   "source": [
    "# Import Fire Point Data (for large fires), fire_point_data.txt fire_data.json (from the resources folder in storage) \n",
    "fire_point_df =  pd.read_csv('resources/fire_point_data.txt')\n",
    "fire_point_data_S_gdf = gpd.GeoDataFrame(fire_point_df, geometry=gpd.points_from_xy(fire_point_df.LONGITUDE, fire_point_df.LATITUDE), crs='EPSG:4617')\n",
    "print(len(fire_point_data_S_gdf))\n",
    "print(fire_point_data_S_gdf.head())"
   ]
  },
  {
   "cell_type": "code",
   "execution_count": 5,
   "id": "3232c83a",
   "metadata": {},
   "outputs": [
    {
     "name": "stdout",
     "output_type": "stream",
     "text": [
      "19115\n",
      "                        _id  FID SRC_AGENCY      FIRE_ID FIRENAME  LATITUDE  \\\n",
      "0  65e3eb5a6160fc6052a53a23    0         BC  1950-G00026             59.876   \n",
      "1  65e3eb5a6160fc6052a53a24    1         BC  1951-R00097             59.760   \n",
      "2  65e3eb5a6160fc6052a53a25    2         BC  1950-G00035             57.463   \n",
      "3  65e3eb5a6160fc6052a53a26    4         BC  1950-R00029             59.318   \n",
      "4  65e3eb5a6160fc6052a53a27    5         BC  1951-R00101             59.713   \n",
      "\n",
      "   LONGITUDE  YEAR  MONTH  DAY  ...           CFS_REF_ID CFS_NOTE1 CFS_NOTE2  \\\n",
      "0   -131.922  1950      6    4  ...  BC-1950-1950-G00026                       \n",
      "1   -132.808  1951      7   15  ...  BC-1951-1951-R00097                       \n",
      "2   -122.816  1950      6   14  ...  BC-1950-1950-G00035                       \n",
      "3   -133.228  1950      6   22  ...  BC-1950-1950-R00029                       \n",
      "4   -134.172  1951      8    7  ...  BC-1951-1951-R00101                       \n",
      "\n",
      "              ACQ_DATE  SRC_AGY2 ECOZONE ECOZ_REF          ECOZ_NAME  \\\n",
      "0  2020-05-05 00:00:00        BC      12       12  Boreal Cordillera   \n",
      "1  2020-05-05 00:00:00        BC      12       12  Boreal Cordillera   \n",
      "2  2020-05-05 00:00:00        BC       4        4        Taiga Plain   \n",
      "3  2020-05-05 00:00:00        BC      12       12  Boreal Cordillera   \n",
      "4  2020-05-05 00:00:00        BC      12       12  Boreal Cordillera   \n",
      "\n",
      "             ECOZ_NOM                     geometry  \n",
      "0  CordillCre boreale  POINT (-131.92200 59.87600)  \n",
      "1  CordillCre boreale  POINT (-132.80800 59.76000)  \n",
      "2   Taiga des plaines  POINT (-122.81600 57.46300)  \n",
      "3  CordillCre boreale  POINT (-133.22800 59.31800)  \n",
      "4  CordillCre boreale  POINT (-134.17200 59.71300)  \n",
      "\n",
      "[5 rows x 29 columns]\n",
      "6065\n",
      "                                            geometry SRC_AGENCY      FIRE_ID  \\\n",
      "0  POLYGON Z ((-115.72874 49.63289 0.00000, -115....         BC  2016-N10004   \n",
      "1  POLYGON Z ((-115.75479 49.79610 0.00000, -115....         BC  2016-N10037   \n",
      "2  POLYGON Z ((-114.94281 50.10509 0.00000, -114....         BC  2016-N10009   \n",
      "3  POLYGON Z ((-115.75699 49.67369 0.00000, -115....         BC  2016-N10002   \n",
      "4  POLYGON Z ((-121.57530 50.21258 0.00000, -121....         BC  2016-K70148   \n",
      "\n",
      "  FIRENAME  YEAR  MONTH  DAY    REP_DATE DATE_TYPE OUT_DATE  ... WATER_REM  \\\n",
      "0     None  2016      4    5  2016-04-05      None     None  ...      None   \n",
      "1     None  2016      5   13  2016-05-13      None     None  ...      None   \n",
      "2     None  2016      4   13  2016-04-13      None     None  ...      None   \n",
      "3     None  2016      4    2  2016-04-02      None     None  ...      None   \n",
      "4     None  2016      6   30  2016-06-30      None     None  ...      None   \n",
      "\n",
      "   UNBURN_REM  MORE_INFO   POLY_DATE      CFS_REF_ID CFS_NOTE1 CFS_NOTE2  \\\n",
      "0        None       None  2016-08-24  BC-2016-N10004      None      None   \n",
      "1        None       None  2016-05-30  BC-2016-N10037      None      None   \n",
      "2        None       None  2016-04-26  BC-2016-N10009      None      None   \n",
      "3        None       None  2016-06-27  BC-2016-N10002      None      None   \n",
      "4        None       None  2016-08-17  BC-2016-K70148      None      None   \n",
      "\n",
      "  AG_SRCFILE    ACQ_DATE SRC_AGY2  \n",
      "0       None  2017-04-12       BC  \n",
      "1       None  2017-04-12       BC  \n",
      "2       None  2017-04-12       BC  \n",
      "3       None  2017-04-12       BC  \n",
      "4       None  2017-04-12       BC  \n",
      "\n",
      "[5 rows x 27 columns]\n"
     ]
    }
   ],
   "source": [
    "# Connecting to the MongoDB database (i.e. loading the Fire_Point dataset through MongoDB)\n",
    "client = pymongo.MongoClient(\"mongodb://localhost:27017/\")\n",
    "db = client[\"forestFireProject_db\"]\n",
    "collection = db[\"ForestFirePoints\"]\n",
    "cursor = collection.find()\n",
    "data = list(cursor)\n",
    "firepoint_df = pd.DataFrame(data)\n",
    "print(len(data))\n",
    "fire_point_data_M_gdf = gpd.GeoDataFrame(data,geometry=gpd.points_from_xy(firepoint_df.LONGITUDE, firepoint_df.LATITUDE),crs='EPSG:4617')\n",
    "print(fire_point_data_M_gdf.head())\n",
    "process_data()"
   ]
  },
  {
   "cell_type": "code",
   "execution_count": 60,
   "id": "d21c4797",
   "metadata": {},
   "outputs": [
    {
     "name": "stdout",
     "output_type": "stream",
     "text": [
      "Empty GeoDataFrame\n",
      "Columns: [_id, FID, SRC_AGENCY, FIRE_ID, FIRENAME, LATITUDE, LONGITUDE, YEAR, MONTH, DAY, REP_DATE, ATTK_DATE, OUT_DATE, DECADE, SIZE_HA, CAUSE, PROTZONE, FIRE_TYPE, MORE_INFO, CFS_REF_ID, CFS_NOTE1, CFS_NOTE2, ACQ_DATE, SRC_AGY2, ECOZONE, ECOZ_REF, ECOZ_NAME, ECOZ_NOM, geometry]\n",
      "Index: []\n",
      "\n",
      "[0 rows x 29 columns]\n"
     ]
    }
   ],
   "source": [
    " print(fire_point_data_M_gdf[fire_point_data_M_gdf[\"SIZE_HA\"].isna()].head())"
   ]
  },
  {
   "cell_type": "code",
   "execution_count": 11,
   "id": "6765a0e3",
   "metadata": {},
   "outputs": [
    {
     "data": {
      "image/png": "[encoded data removed]",
      "text/plain": [
       "<Figure size 640x480 with 1 Axes>"
      ]
     },
     "metadata": {},
     "output_type": "display_data"
    }
   ],
   "source": [
    "area_by_cause_df = fire_point_data_M_gdf.groupby(\"CAUSE\")[\"SIZE_HA\"].sum().dropna()\n",
    "plt.title(\"Total Area Burned \\nby Cause of Wildfire\\n1950 - 2021\\nSource: http://cwfis.cfs.nrcan.gc.ca/ha/nfdb\")\n",
    "area_by_cause_df.index = area_by_cause_df.index.map({\n",
    "    \"H\": \"Human\",\n",
    "    \"H-PB\": \"Human (Prescribed)\",\n",
    "    \"L\": \"Lightning\",\n",
    "    \"U\": \"Unknown\",\n",
    "    \"n/a\": \"Not Available\"\n",
    "  })\n",
    "plt.pie(area_by_cause_df, labels=area_by_cause_df.index, autopct=\"%.2f\")\n",
    "plt.legend(loc=\"lower left\")\n",
    "plt.show()\n"
   ]
  },
  {
   "cell_type": "code",
   "execution_count": 71,
   "id": "a5502cce",
   "metadata": {},
   "outputs": [
    {
     "name": "stdout",
     "output_type": "stream",
     "text": [
      "['H' 'L' 'U' 'H-PB' 'n/a']\n"
     ]
    }
   ],
   "source": [
    "print(fire_point_data_M_gdf[\"CAUSE\"].unique())"
   ]
  },
  {
   "cell_type": "code",
   "execution_count": 74,
   "id": "286c3e3e",
   "metadata": {},
   "outputs": [],
   "source": [
    "# Obtaining weather data through weather APIs \n",
    "WEATHER_API_BASE = \"https://api.weather.gc.ca\"\n",
    "def get_weather_for_day(date: datetime.datetime) -> gpd.GeoDataFrame:\n",
    "  \"\"\"\n",
    "  Load weather data from all stations for a single day.\n",
    "  \"\"\"\n",
    "  API = f\"{WEATHER_API_BASE}/collections/climate-daily/items\"\n",
    "\n",
    "  date_start = date.__format__(\"%Y-%m-%d 00:00:00\")\n",
    "  date_end = date.__format__(\"%Y-%m-%d 11:59:59\")\n",
    "\n",
    "  result = requests.get(API, params={\n",
    "    \"datetime\": f\"{date_start}/{date_end}\",\n",
    "    \"f\": \"json\",\n",
    "    \"startindex\": \"0\",\n",
    "    \"sortby\": \"LOCAL_YEAR,LOCAL_DAY\",\n",
    "    \"limit\": \"5000\"\n",
    "  })\n",
    "\n",
    "  data = result.json()\n",
    "  features = data[\"features\"]\n",
    "  weather_df = gpd.GeoDataFrame.from_features(features)\n",
    "\n",
    "  return weather_df\n",
    "\n",
    "def get_fires_for_day(date: datetime.datetime) -> pd.DataFrame:\n",
    "  \"\"\"\n",
    "  Get a subset of the fire points data for a single day.\n",
    "  \"\"\"\n",
    "  df = fire_point_data_M_gdf[(fire_point_data_M_gdf[\"YEAR\"] == date.year) & (fire_point_data_M_gdf[\"MONTH\"] == date.month) & (fire_point_data_M_gdf[\"DAY\"] == date.day)]\n",
    "  return df\n",
    "\n",
    "def make_weather_and_fire_animation(start_date, end_date):\n",
    "  \"\"\"\n",
    "  Make an animation of weather and fire data over a range of dates.\n",
    "  \"\"\"\n",
    "  images = []\n",
    "  # Iterate through days in range.\n",
    "  for i, date in enumerate(pd.date_range(start_date, end_date)):\n",
    "    print(f\"Processing date: {date}\")\n",
    "\n",
    "    weather_for_day_df = get_weather_for_day(date)\n",
    "    fires_for_date_df = get_fires_for_day(date)\n",
    "\n",
    "    # Create a plot with all weather data color coded from blue-red (relative temperatures)\n",
    "    # Overlay with the forest fires for that day, in black.\n",
    "    fig, ax = plt.subplots()\n",
    "    plt.title(f\"Weather Data Overlaying Wildfire Points' Data \\n{date}\\n\\nHigh Temperatures = Red markers; Cool Temperatures = Blue markers; \\nWildfires = Black markers\")\n",
    "    plt.xlabel(\"Longitude\")\n",
    "    plt.ylabel('Latitude')\n",
    "    weather_for_day_df.plot(\"MEAN_TEMPERATURE\", cmap=\"coolwarm\", ax=ax)\n",
    "    ax.scatter(fires_for_date_df[\"LONGITUDE\"], fires_for_date_df[\"LATITUDE\"], color=\"black\", s=10)\n",
    "    \n",
    "    # Save frame of animation to animations folder.\n",
    "    image_path = f\"./resources/animation/{i}.png\"\n",
    "    plt.savefig(image_path)\n",
    "    image_buffer = imageio.imread(image_path)\n",
    "    images.append(image_buffer)\n",
    "    \n",
    "    plt.close()\n",
    "\n",
    "    imageio.mimsave('./resources/animation.gif',images, fps = 2)\n",
    "\n",
    "\n",
    "#print(len(weather_df))\n",
    "#print(len(fire_point_data_M_gdf))\n",
    "#plt.show()\n",
    "#ax.legend(loc='upper right')"
   ]
  },
  {
   "cell_type": "code",
   "execution_count": 75,
   "id": "61c652cd",
   "metadata": {},
   "outputs": [
    {
     "name": "stdout",
     "output_type": "stream",
     "text": [
      "Processing date: 2021-05-01 00:00:00\n",
      "Processing date: 2021-05-02 00:00:00\n",
      "Processing date: 2021-05-03 00:00:00\n",
      "Processing date: 2021-05-04 00:00:00\n",
      "Processing date: 2021-05-05 00:00:00\n",
      "Processing date: 2021-05-06 00:00:00\n",
      "Processing date: 2021-05-07 00:00:00\n",
      "Processing date: 2021-05-08 00:00:00\n",
      "Processing date: 2021-05-09 00:00:00\n",
      "Processing date: 2021-05-10 00:00:00\n",
      "Processing date: 2021-05-11 00:00:00\n",
      "Processing date: 2021-05-12 00:00:00\n",
      "Processing date: 2021-05-13 00:00:00\n",
      "Processing date: 2021-05-14 00:00:00\n",
      "Processing date: 2021-05-15 00:00:00\n",
      "Processing date: 2021-05-16 00:00:00\n",
      "Processing date: 2021-05-17 00:00:00\n",
      "Processing date: 2021-05-18 00:00:00\n",
      "Processing date: 2021-05-19 00:00:00\n",
      "Processing date: 2021-05-20 00:00:00\n",
      "Processing date: 2021-05-21 00:00:00\n",
      "Processing date: 2021-05-22 00:00:00\n",
      "Processing date: 2021-05-23 00:00:00\n",
      "Processing date: 2021-05-24 00:00:00\n",
      "Processing date: 2021-05-25 00:00:00\n",
      "Processing date: 2021-05-26 00:00:00\n",
      "Processing date: 2021-05-27 00:00:00\n",
      "Processing date: 2021-05-28 00:00:00\n",
      "Processing date: 2021-05-29 00:00:00\n",
      "Processing date: 2021-05-30 00:00:00\n",
      "Processing date: 2021-05-31 00:00:00\n"
     ]
    }
   ],
   "source": [
    "START_DATE = datetime.datetime(2021, 5, 1)\n",
    "END_DATE = datetime.datetime(2021, 5, 31)\n",
    "make_weather_and_fire_animation(START_DATE, END_DATE)\n"
   ]
  },
  {
   "cell_type": "markdown",
   "id": "1b9027a0",
   "metadata": {},
   "source": [
    "# Analysis: \n",
    "\n",
    "The analysis of total area burned by cause of wildfire shows that the wildfires caused by lightning, which represent about 20% of all wildfires by count (as shown under \"Primary Causes of Wildfires\"), account for most of the area burned (over 80%).  Please refer to the pie-chart \"Total Area Burned by Cause of Wildfire - 1950 - 2021\". \n",
    "\n",
    "Further, the animation on weather data (high temperatures) overlaying wildfire occurrences shows that wildfire activity rises with high temperatures.  It, therefore, supports the view that \"rising temperatures promote the development of more storms capable of producing lightning (Source: Climate Atlas of Canada)\".  \n",
    "\n",
    "Climate scientists are forecasting, for every 1C increase in temperatures, the wildfire activity could increase by 12%.  In other words, the overall efforts to slow global warming would help mitigate the risk of wildfires. "
   ]
  }
 ],
 "metadata": {
  "kernelspec": {
   "display_name": "Python 3 (ipykernel)",
   "language": "python",
   "name": "python3"
  },
  "language_info": {
   "codemirror_mode": {
    "name": "ipython",
    "version": 3
   },
   "file_extension": ".py",
   "mimetype": "text/x-python",
   "name": "python",
   "nbconvert_exporter": "python",
   "pygments_lexer": "ipython3",
   "version": "3.11.5"
  }
 },
 "nbformat": 4,
 "nbformat_minor": 5
}
