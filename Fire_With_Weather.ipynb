{
 "cells": [
  {
   "cell_type": "code",
   "execution_count": 30,
   "id": "faff8255-6eb4-43f2-9ca7-786f60304610",
   "metadata": {},
   "outputs": [],
   "source": [
    "# importing depedencies\n",
    "import os\n",
    "import matplotlib.pyplot as plt\n",
    "import pandas as pd\n",
    "import scipy as st\n",
    "import numpy as np\n",
    "import hvplot.pandas\n",
    "import geopandas as gpd\n",
    "import requests\n",
    "import datetime\n",
    "import json\n",
    "import folium\n",
    "import pymongo\n",
    "import plotly.graph_objects as go\n",
    "import imageio.v2 as imageio\n",
    "from pprint import pprint"
   ]
  },
  {
   "cell_type": "markdown",
   "id": "ed966d6a-9a43-4c54-95e6-631cff790b16",
   "metadata": {},
   "source": [
    "### import data"
   ]
  },
  {
   "cell_type": "code",
   "execution_count": 16,
   "id": "3d1bb648",
   "metadata": {},
   "outputs": [
    {
     "name": "stdout",
     "output_type": "stream",
     "text": [
      "6065\n",
      "                                            geometry SRC_AGENCY      FIRE_ID  \\\n",
      "0  POLYGON Z ((-115.75479 49.79610 0.00000, -115....         BC  2016-N10037   \n",
      "1  MULTIPOLYGON Z (((-114.97290 49.01062 0.00000,...         BC  2016-N10016   \n",
      "2  POLYGON Z ((-114.94281 50.10509 0.00000, -114....         BC  2016-N10009   \n",
      "3  POLYGON Z ((-115.72874 49.63289 0.00000, -115....         BC  2016-N10004   \n",
      "4  POLYGON Z ((-115.75699 49.67369 0.00000, -115....         BC  2016-N10002   \n",
      "\n",
      "  FIRENAME  YEAR  MONTH  DAY    REP_DATE DATE_TYPE OUT_DATE  ... WATER_REM  \\\n",
      "0     None  2016      5   13  2016-05-13      None     None  ...      None   \n",
      "1     None  2016      4   20  2016-04-20      None     None  ...      None   \n",
      "2     None  2016      4   13  2016-04-13      None     None  ...      None   \n",
      "3     None  2016      4    5  2016-04-05      None     None  ...      None   \n",
      "4     None  2016      4    2  2016-04-02      None     None  ...      None   \n",
      "\n",
      "   UNBURN_REM  MORE_INFO   POLY_DATE      CFS_REF_ID CFS_NOTE1 CFS_NOTE2  \\\n",
      "0        None       None  2016-05-30  BC-2016-N10037      None      None   \n",
      "1        None       None  2016-04-22  BC-2016-N10016      None      None   \n",
      "2        None       None  2016-04-26  BC-2016-N10009      None      None   \n",
      "3        None       None  2016-08-24  BC-2016-N10004      None      None   \n",
      "4        None       None  2016-06-27  BC-2016-N10002      None      None   \n",
      "\n",
      "  AG_SRCFILE    ACQ_DATE SRC_AGY2  \n",
      "0       None  2017-04-12       BC  \n",
      "1       None  2017-04-12       BC  \n",
      "2       None  2017-04-12       BC  \n",
      "3       None  2017-04-12       BC  \n",
      "4       None  2017-04-12       BC  \n",
      "\n",
      "[5 rows x 27 columns]\n"
     ]
    }
   ],
   "source": [
    "# Import Fire_data Polygon Shape data, fire_data.json (from the resources folder in storage) \n",
    "with open(\"resources/fire_data.json\", \"r\") as f:\n",
    "    firedata = json.load(f)\n",
    "    fire_polygon_S_df = gpd.GeoDataFrame.from_features(firedata,crs='EPSG:4617')\n",
    "    print(len(fire_polygon_S_df))\n",
    "    print(fire_polygon_S_df.head())"
   ]
  },
  {
   "cell_type": "code",
   "execution_count": 17,
   "id": "d9548bae",
   "metadata": {},
   "outputs": [
    {
     "name": "stdout",
     "output_type": "stream",
     "text": [
      "6065\n",
      "                                            geometry SRC_AGENCY      FIRE_ID  \\\n",
      "0  POLYGON Z ((-115.72874 49.63289 0.00000, -115....         BC  2016-N10004   \n",
      "1  POLYGON Z ((-115.75479 49.79610 0.00000, -115....         BC  2016-N10037   \n",
      "2  POLYGON Z ((-114.94281 50.10509 0.00000, -114....         BC  2016-N10009   \n",
      "3  POLYGON Z ((-115.75699 49.67369 0.00000, -115....         BC  2016-N10002   \n",
      "4  POLYGON Z ((-121.57530 50.21258 0.00000, -121....         BC  2016-K70148   \n",
      "\n",
      "  FIRENAME  YEAR  MONTH  DAY    REP_DATE DATE_TYPE OUT_DATE  ... WATER_REM  \\\n",
      "0     None  2016      4    5  2016-04-05      None     None  ...      None   \n",
      "1     None  2016      5   13  2016-05-13      None     None  ...      None   \n",
      "2     None  2016      4   13  2016-04-13      None     None  ...      None   \n",
      "3     None  2016      4    2  2016-04-02      None     None  ...      None   \n",
      "4     None  2016      6   30  2016-06-30      None     None  ...      None   \n",
      "\n",
      "   UNBURN_REM  MORE_INFO   POLY_DATE      CFS_REF_ID CFS_NOTE1 CFS_NOTE2  \\\n",
      "0        None       None  2016-08-24  BC-2016-N10004      None      None   \n",
      "1        None       None  2016-05-30  BC-2016-N10037      None      None   \n",
      "2        None       None  2016-04-26  BC-2016-N10009      None      None   \n",
      "3        None       None  2016-06-27  BC-2016-N10002      None      None   \n",
      "4        None       None  2016-08-17  BC-2016-K70148      None      None   \n",
      "\n",
      "  AG_SRCFILE    ACQ_DATE SRC_AGY2  \n",
      "0       None  2017-04-12       BC  \n",
      "1       None  2017-04-12       BC  \n",
      "2       None  2017-04-12       BC  \n",
      "3       None  2017-04-12       BC  \n",
      "4       None  2017-04-12       BC  \n",
      "\n",
      "[5 rows x 27 columns]\n"
     ]
    }
   ],
   "source": [
    "# Connecting to the MongoDB database (i.e. loading the Fire_data dataset through MongoDB into a variable)\n",
    "def process_data():   \n",
    "    client = pymongo.MongoClient(\"mongodb://localhost:27017/\")\n",
    "    db = client[\"forestFireProject_db\"]\n",
    "    collection = db[\"ForestFirePolygons\"]\n",
    "    cursor = collection.find()\n",
    "    data = list(cursor)\n",
    "    print(len(data))\n",
    "    fire_polygon_M_df = gpd.GeoDataFrame.from_features(data,crs='EPSG:4617')\n",
    "    print(fire_polygon_M_df.head())\n",
    "process_data()"
   ]
  },
  {
   "cell_type": "code",
   "execution_count": 18,
   "id": "770cfdea",
   "metadata": {},
   "outputs": [
    {
     "name": "stdout",
     "output_type": "stream",
     "text": [
      "19115\n",
      "   FID SRC_AGENCY      FIRE_ID FIRENAME  LATITUDE  LONGITUDE  YEAR  MONTH  \\\n",
      "0    0         BC  1950-G00026             59.876   -131.922  1950      6   \n",
      "1    1         BC  1951-R00097             59.760   -132.808  1951      7   \n",
      "2    2         BC  1950-G00035             57.463   -122.816  1950      6   \n",
      "3    3         BC  1953-G00043             57.684   -121.925  1953      5   \n",
      "4    4         BC  1950-R00029             59.318   -133.228  1950      6   \n",
      "\n",
      "   DAY             REP_DATE  ...           CFS_REF_ID CFS_NOTE1 CFS_NOTE2  \\\n",
      "0    4  1950-06-04 00:00:00  ...  BC-1950-1950-G00026                       \n",
      "1   15  1951-07-15 00:00:00  ...  BC-1951-1951-R00097                       \n",
      "2   14  1950-06-14 00:00:00  ...  BC-1950-1950-G00035                       \n",
      "3    1  1953-05-01 00:00:00  ...  BC-1953-1953-G00043                       \n",
      "4   22  1950-06-22 00:00:00  ...  BC-1950-1950-R00029                       \n",
      "\n",
      "              ACQ_DATE SRC_AGY2 ECOZONE ECOZ_REF          ECOZ_NAME  \\\n",
      "0  2020-05-05 00:00:00       BC      12       12  Boreal Cordillera   \n",
      "1  2020-05-05 00:00:00       BC      12       12  Boreal Cordillera   \n",
      "2  2020-05-05 00:00:00       BC       4        4        Taiga Plain   \n",
      "3  2020-05-05 00:00:00       BC       4        4        Taiga Plain   \n",
      "4  2020-05-05 00:00:00       BC      12       12  Boreal Cordillera   \n",
      "\n",
      "             ECOZ_NOM                     geometry  \n",
      "0  CordillCre boreale  POINT (-131.92200 59.87600)  \n",
      "1  CordillCre boreale  POINT (-132.80800 59.76000)  \n",
      "2   Taiga des plaines  POINT (-122.81600 57.46300)  \n",
      "3   Taiga des plaines  POINT (-121.92500 57.68400)  \n",
      "4  CordillCre boreale  POINT (-133.22800 59.31800)  \n",
      "\n",
      "[5 rows x 28 columns]\n"
     ]
    }
   ],
   "source": [
    "# Import Fire Point Data (for large fires), fire_point_data.txt fire_data.json (from the resources folder in storage) \n",
    "fire_point_df =  pd.read_csv('resources/fire_point_data.txt')\n",
    "fire_point_data_S_gdf = gpd.GeoDataFrame(fire_point_df, geometry=gpd.points_from_xy(fire_point_df.LONGITUDE, fire_point_df.LATITUDE), crs='EPSG:4617')\n",
    "print(len(fire_point_data_S_gdf))\n",
    "print(fire_point_data_S_gdf.head())"
   ]
  },
  {
   "cell_type": "code",
   "execution_count": 24,
   "id": "3232c83a",
   "metadata": {},
   "outputs": [
    {
     "name": "stdout",
     "output_type": "stream",
     "text": [
      "19115\n",
      "                        _id  FID SRC_AGENCY      FIRE_ID FIRENAME  LATITUDE  \\\n",
      "0  65e3eb5a6160fc6052a53a23    0         BC  1950-G00026             59.876   \n",
      "1  65e3eb5a6160fc6052a53a24    1         BC  1951-R00097             59.760   \n",
      "2  65e3eb5a6160fc6052a53a25    2         BC  1950-G00035             57.463   \n",
      "3  65e3eb5a6160fc6052a53a26    4         BC  1950-R00029             59.318   \n",
      "4  65e3eb5a6160fc6052a53a27    5         BC  1951-R00101             59.713   \n",
      "\n",
      "   LONGITUDE  YEAR  MONTH  DAY  ...           CFS_REF_ID CFS_NOTE1 CFS_NOTE2  \\\n",
      "0   -131.922  1950      6    4  ...  BC-1950-1950-G00026                       \n",
      "1   -132.808  1951      7   15  ...  BC-1951-1951-R00097                       \n",
      "2   -122.816  1950      6   14  ...  BC-1950-1950-G00035                       \n",
      "3   -133.228  1950      6   22  ...  BC-1950-1950-R00029                       \n",
      "4   -134.172  1951      8    7  ...  BC-1951-1951-R00101                       \n",
      "\n",
      "              ACQ_DATE  SRC_AGY2 ECOZONE ECOZ_REF          ECOZ_NAME  \\\n",
      "0  2020-05-05 00:00:00        BC      12       12  Boreal Cordillera   \n",
      "1  2020-05-05 00:00:00        BC      12       12  Boreal Cordillera   \n",
      "2  2020-05-05 00:00:00        BC       4        4        Taiga Plain   \n",
      "3  2020-05-05 00:00:00        BC      12       12  Boreal Cordillera   \n",
      "4  2020-05-05 00:00:00        BC      12       12  Boreal Cordillera   \n",
      "\n",
      "             ECOZ_NOM                     geometry  \n",
      "0  CordillCre boreale  POINT (-131.92200 59.87600)  \n",
      "1  CordillCre boreale  POINT (-132.80800 59.76000)  \n",
      "2   Taiga des plaines  POINT (-122.81600 57.46300)  \n",
      "3  CordillCre boreale  POINT (-133.22800 59.31800)  \n",
      "4  CordillCre boreale  POINT (-134.17200 59.71300)  \n",
      "\n",
      "[5 rows x 29 columns]\n",
      "19115\n",
      "                        _id  FID SRC_AGENCY      FIRE_ID FIRENAME  LATITUDE  \\\n",
      "0  65e3eb5a6160fc6052a53a23    0         BC  1950-G00026             59.876   \n",
      "1  65e3eb5a6160fc6052a53a24    1         BC  1951-R00097             59.760   \n",
      "2  65e3eb5a6160fc6052a53a25    2         BC  1950-G00035             57.463   \n",
      "3  65e3eb5a6160fc6052a53a26    4         BC  1950-R00029             59.318   \n",
      "4  65e3eb5a6160fc6052a53a27    5         BC  1951-R00101             59.713   \n",
      "\n",
      "   LONGITUDE  YEAR  MONTH  DAY  ...           CFS_REF_ID CFS_NOTE1 CFS_NOTE2  \\\n",
      "0   -131.922  1950      6    4  ...  BC-1950-1950-G00026                       \n",
      "1   -132.808  1951      7   15  ...  BC-1951-1951-R00097                       \n",
      "2   -122.816  1950      6   14  ...  BC-1950-1950-G00035                       \n",
      "3   -133.228  1950      6   22  ...  BC-1950-1950-R00029                       \n",
      "4   -134.172  1951      8    7  ...  BC-1951-1951-R00101                       \n",
      "\n",
      "              ACQ_DATE  SRC_AGY2 ECOZONE ECOZ_REF          ECOZ_NAME  \\\n",
      "0  2020-05-05 00:00:00        BC      12       12  Boreal Cordillera   \n",
      "1  2020-05-05 00:00:00        BC      12       12  Boreal Cordillera   \n",
      "2  2020-05-05 00:00:00        BC       4        4        Taiga Plain   \n",
      "3  2020-05-05 00:00:00        BC      12       12  Boreal Cordillera   \n",
      "4  2020-05-05 00:00:00        BC      12       12  Boreal Cordillera   \n",
      "\n",
      "             ECOZ_NOM                     geometry  \n",
      "0  CordillCre boreale  POINT (-131.92200 59.87600)  \n",
      "1  CordillCre boreale  POINT (-132.80800 59.76000)  \n",
      "2   Taiga des plaines  POINT (-122.81600 57.46300)  \n",
      "3  CordillCre boreale  POINT (-133.22800 59.31800)  \n",
      "4  CordillCre boreale  POINT (-134.17200 59.71300)  \n",
      "\n",
      "[5 rows x 29 columns]\n"
     ]
    }
   ],
   "source": [
    "# Connecting to the MongoDB database (i.e. loading the Fire_Point dataset through MongoDB into a variable)\n",
    "client = pymongo.MongoClient(\"mongodb://localhost:27017/\")\n",
    "db = client[\"forestFireProject_db\"]\n",
    "collection = db[\"ForestFirePoints\"]\n",
    "cursor = collection.find()\n",
    "data = list(cursor)\n",
    "firepoint_df = pd.DataFrame(data)\n",
    "print(len(data))\n",
    "fire_point_data_M_gdf = gpd.GeoDataFrame(data,geometry=gpd.points_from_xy(firepoint_df.LONGITUDE, firepoint_df.LATITUDE),crs='EPSG:4617')\n",
    "print(fire_point_data_M_gdf.head())\n",
    "process_data()"
   ]
  },
  {
   "cell_type": "code",
   "execution_count": 60,
   "id": "d21c4797",
   "metadata": {},
   "outputs": [
    {
     "name": "stdout",
     "output_type": "stream",
     "text": [
      "Empty GeoDataFrame\n",
      "Columns: [_id, FID, SRC_AGENCY, FIRE_ID, FIRENAME, LATITUDE, LONGITUDE, YEAR, MONTH, DAY, REP_DATE, ATTK_DATE, OUT_DATE, DECADE, SIZE_HA, CAUSE, PROTZONE, FIRE_TYPE, MORE_INFO, CFS_REF_ID, CFS_NOTE1, CFS_NOTE2, ACQ_DATE, SRC_AGY2, ECOZONE, ECOZ_REF, ECOZ_NAME, ECOZ_NOM, geometry]\n",
      "Index: []\n",
      "\n",
      "[0 rows x 29 columns]\n"
     ]
    }
   ],
   "source": [
    " print(fire_point_data_M_gdf[fire_point_data_M_gdf[\"SIZE_HA\"].isna()].head())"
   ]
  },
  {
   "cell_type": "code",
   "execution_count": 68,
   "id": "6765a0e3",
   "metadata": {},
   "outputs": [
    {
     "data": {
      "image/png": "[encoded data removed]",
      "text/plain": [
       "<Figure size 640x480 with 1 Axes>"
      ]
     },
     "metadata": {},
     "output_type": "display_data"
    }
   ],
   "source": [
    "area_by_cause_df = fire_point_data_M_gdf.groupby(\"CAUSE\")[\"SIZE_HA\"].sum().dropna()\n",
    "plt.title(\"Total Area Burned \\nby Cause of Wildfire\\n1950 - 2021\")\n",
    "area_by_cause_df.index = area_by_cause_df.index.map({\n",
    "    \"H\": \"Human\",\n",
    "    \"H-PB\": \"Human (Prescribed)\",\n",
    "    \"L\": \"Lightning\",\n",
    "    \"U\": \"Unknown\",\n",
    "    \"n/a\": \"Not Available\"\n",
    "  })\n",
    "plt.pie(area_by_cause_df, labels=area_by_cause_df.index)\n",
    "plt.legend(loc=\"lower left\")\n",
    "plt.show()\n"
   ]
  },
  {
   "cell_type": "code",
   "execution_count": 71,
   "id": "a5502cce",
   "metadata": {},
   "outputs": [
    {
     "name": "stdout",
     "output_type": "stream",
     "text": [
      "['H' 'L' 'U' 'H-PB' 'n/a']\n"
     ]
    }
   ],
   "source": [
    "print(fire_point_data_M_gdf[\"CAUSE\"].unique())"
   ]
  },
  {
   "cell_type": "code",
   "execution_count": 74,
   "id": "286c3e3e",
   "metadata": {},
   "outputs": [],
   "source": [
    "# Obtaining weather data through weather APIs \n",
    "WEATHER_API_BASE = \"https://api.weather.gc.ca\"\n",
    "def get_weather_for_day(date: datetime.datetime) -> gpd.GeoDataFrame:\n",
    "  \"\"\"\n",
    "  Load weather data from all stations for a single day.\n",
    "  \"\"\"\n",
    "  API = f\"{WEATHER_API_BASE}/collections/climate-daily/items\"\n",
    "\n",
    "  date_start = date.__format__(\"%Y-%m-%d 00:00:00\")\n",
    "  date_end = date.__format__(\"%Y-%m-%d 11:59:59\")\n",
    "\n",
    "  result = requests.get(API, params={\n",
    "    \"datetime\": f\"{date_start}/{date_end}\",\n",
    "    \"f\": \"json\",\n",
    "    \"startindex\": \"0\",\n",
    "    \"sortby\": \"LOCAL_YEAR,LOCAL_DAY\",\n",
    "    \"limit\": \"5000\"\n",
    "  })\n",
    "\n",
    "  data = result.json()\n",
    "  features = data[\"features\"]\n",
    "  weather_df = gpd.GeoDataFrame.from_features(features)\n",
    "\n",
    "  return weather_df\n",
    "\n",
    "def get_fires_for_day(date: datetime.datetime) -> pd.DataFrame:\n",
    "  \"\"\"\n",
    "  Get a subset of the fire points data for a single day.\n",
    "  \"\"\"\n",
    "  df = fire_point_data_M_gdf[(fire_point_data_M_gdf[\"YEAR\"] == date.year) & (fire_point_data_M_gdf[\"MONTH\"] == date.month) & (fire_point_data_M_gdf[\"DAY\"] == date.day)]\n",
    "  return df\n",
    "\n",
    "def make_weather_and_fire_animation(start_date, end_date):\n",
    "  \"\"\"\n",
    "  Make an animation of weather and fire data over a range of dates.\n",
    "  \"\"\"\n",
    "  images = []\n",
    "  # Iterate through days in range.\n",
    "  for i, date in enumerate(pd.date_range(start_date, end_date)):\n",
    "    print(f\"Processing date: {date}\")\n",
    "\n",
    "    weather_for_day_df = get_weather_for_day(date)\n",
    "    fires_for_date_df = get_fires_for_day(date)\n",
    "\n",
    "    # Create a plot with all weather data color coded from blue-red (relative temperatures)\n",
    "    # Overlay with the forest fires for that day, in black.\n",
    "    fig, ax = plt.subplots()\n",
    "    plt.title(f\"Weather Data Overlaying Wildfire Points' Data \\n{date}\\n\\nHigh Temperatures = Red markers; Cool Temperatures = Blue markers; \\nWildfires = Black markers\")\n",
    "    plt.xlabel(\"Longitude\")\n",
    "    plt.ylabel('Latitude')\n",
    "    weather_for_day_df.plot(\"MEAN_TEMPERATURE\", cmap=\"coolwarm\", ax=ax)\n",
    "    ax.scatter(fires_for_date_df[\"LONGITUDE\"], fires_for_date_df[\"LATITUDE\"], color=\"black\", s=10)\n",
    "    \n",
    "    # Save frame of animation to animations folder.\n",
    "    image_path = f\"./resources/animation/{i}.png\"\n",
    "    plt.savefig(image_path)\n",
    "    image_buffer = imageio.imread(image_path)\n",
    "    images.append(image_buffer)\n",
    "    \n",
    "    plt.close()\n",
    "\n",
    "    imageio.mimsave('./resources/animation.gif',images, fps = 2)\n",
    "\n",
    "\n",
    "#print(len(weather_df))\n",
    "#print(len(fire_point_data_M_gdf))\n",
    "#plt.show()\n",
    "#ax.legend(loc='upper right')"
   ]
  },
  {
   "cell_type": "code",
   "execution_count": 75,
   "id": "61c652cd",
   "metadata": {},
   "outputs": [
    {
     "name": "stdout",
     "output_type": "stream",
     "text": [
      "Processing date: 2021-05-01 00:00:00\n",
      "Processing date: 2021-05-02 00:00:00\n",
      "Processing date: 2021-05-03 00:00:00\n",
      "Processing date: 2021-05-04 00:00:00\n",
      "Processing date: 2021-05-05 00:00:00\n",
      "Processing date: 2021-05-06 00:00:00\n",
      "Processing date: 2021-05-07 00:00:00\n",
      "Processing date: 2021-05-08 00:00:00\n",
      "Processing date: 2021-05-09 00:00:00\n",
      "Processing date: 2021-05-10 00:00:00\n",
      "Processing date: 2021-05-11 00:00:00\n",
      "Processing date: 2021-05-12 00:00:00\n",
      "Processing date: 2021-05-13 00:00:00\n",
      "Processing date: 2021-05-14 00:00:00\n",
      "Processing date: 2021-05-15 00:00:00\n",
      "Processing date: 2021-05-16 00:00:00\n",
      "Processing date: 2021-05-17 00:00:00\n",
      "Processing date: 2021-05-18 00:00:00\n",
      "Processing date: 2021-05-19 00:00:00\n",
      "Processing date: 2021-05-20 00:00:00\n",
      "Processing date: 2021-05-21 00:00:00\n",
      "Processing date: 2021-05-22 00:00:00\n",
      "Processing date: 2021-05-23 00:00:00\n",
      "Processing date: 2021-05-24 00:00:00\n",
      "Processing date: 2021-05-25 00:00:00\n",
      "Processing date: 2021-05-26 00:00:00\n",
      "Processing date: 2021-05-27 00:00:00\n",
      "Processing date: 2021-05-28 00:00:00\n",
      "Processing date: 2021-05-29 00:00:00\n",
      "Processing date: 2021-05-30 00:00:00\n",
      "Processing date: 2021-05-31 00:00:00\n"
     ]
    }
   ],
   "source": [
    "START_DATE = datetime.datetime(2021, 5, 1)\n",
    "END_DATE = datetime.datetime(2021, 5, 31)\n",
    "make_weather_and_fire_animation(START_DATE, END_DATE)\n"
   ]
  },
  {
   "cell_type": "code",
   "execution_count": null,
   "id": "5802af76",
   "metadata": {},
   "outputs": [],
   "source": []
  }
 ],
 "metadata": {
  "kernelspec": {
   "display_name": "Python 3 (ipykernel)",
   "language": "python",
   "name": "python3"
  },
  "language_info": {
   "codemirror_mode": {
    "name": "ipython",
    "version": 3
   },
   "file_extension": ".py",
   "mimetype": "text/x-python",
   "name": "python",
   "nbconvert_exporter": "python",
   "pygments_lexer": "ipython3",
   "version": "3.11.5"
  }
 },
 "nbformat": 4,
 "nbformat_minor": 5
}
